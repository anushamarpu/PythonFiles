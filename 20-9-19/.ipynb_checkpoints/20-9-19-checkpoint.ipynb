{
 "cells": [
  {
   "cell_type": "code",
   "execution_count": 3,
   "metadata": {},
   "outputs": [
    {
     "name": "stdout",
     "output_type": "stream",
     "text": [
      "12\n",
      "7\n",
      "7 111111\n"
     ]
    }
   ],
   "source": [
    "d={0:6,1:2,2:5,3:5,4:4,5:5,6:6,7:3,8:7,9:6}\n",
    "n=input()\n",
    "c=0\n",
    "for i in n:\n",
    "    c=c+d[int(i)]\n",
    "print(c)\n",
    "if c%2==0:\n",
    "    print(\"1\"*c)\n",
    "else:\n",
    "    print(\"7\",(\"1\"*(c-1)))"
   ]
  },
  {
   "cell_type": "code",
   "execution_count": 5,
   "metadata": {},
   "outputs": [
    {
     "name": "stdout",
     "output_type": "stream",
     "text": [
      "5\n",
      "11111\n",
      "71\n"
     ]
    }
   ],
   "source": [
    "d={0:6,1:2,2:5,3:5,4:4,5:5,6:6,7:3,8:7,9:6}\n",
    "n=input()\n",
    "c=0\n",
    "for i in n:\n",
    "    c=c+d[int(i)]\n",
    "print(\"1\"*c)\n",
    "if c%2==0:\n",
    "    c=c/2\n",
    "    print(\"1\"*c)\n",
    "else:\n",
    "    c=c//2\n",
    "    print(\"7\"+(\"1\"*(c-1)))\n",
    "    "
   ]
  },
  {
   "cell_type": "code",
   "execution_count": 2,
   "metadata": {},
   "outputs": [
    {
     "name": "stdout",
     "output_type": "stream",
     "text": [
      "14154\n",
      "5\n",
      "invalid ISBN\n",
      "5\n",
      "invalid ISBN\n"
     ]
    }
   ],
   "source": [
    "n=(input())\n",
    "c=0\n",
    "j=1\n",
    "if (len(n)==10):\n",
    "    for i in n:\n",
    "        c=c+(j*int(i))\n",
    "        j+=1\n",
    "    print(c)\n",
    "    if (c%11==0):\n",
    "        print(\"valid ISBN\")\n",
    "else:\n",
    "    print(\"invalid ISBN\")\n",
    "    "
   ]
  },
  {
   "cell_type": "code",
   "execution_count": null,
   "metadata": {},
   "outputs": [],
   "source": []
  }
 ],
 "metadata": {
  "kernelspec": {
   "display_name": "Python 3",
   "language": "python",
   "name": "python3"
  },
  "language_info": {
   "codemirror_mode": {
    "name": "ipython",
    "version": 3
   },
   "file_extension": ".py",
   "mimetype": "text/x-python",
   "name": "python",
   "nbconvert_exporter": "python",
   "pygments_lexer": "ipython3",
   "version": "3.7.3"
  }
 },
 "nbformat": 4,
 "nbformat_minor": 2
}
